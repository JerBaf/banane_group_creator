{
 "cells": [
  {
   "cell_type": "markdown",
   "metadata": {},
   "source": [
    "# Banane Group Creator "
   ]
  },
  {
   "cell_type": "markdown",
   "metadata": {},
   "source": [
    "### Packages"
   ]
  },
  {
   "cell_type": "code",
   "execution_count": 1,
   "metadata": {},
   "outputs": [],
   "source": [
    "import json\n",
    "import numpy as np\n",
    "import pandas as pd\n",
    "import networkx as nx\n",
    "import seaborn as sns\n",
    "from scipy.sparse import csr_matrix\n",
    "from scipy.sparse.csgraph import maximum_bipartite_matching"
   ]
  },
  {
   "cell_type": "markdown",
   "metadata": {},
   "source": [
    "### Constant"
   ]
  },
  {
   "cell_type": "code",
   "execution_count": 35,
   "metadata": {},
   "outputs": [],
   "source": [
    "DAYS = {'MONDAY':0,'TUESDAY':1,'WEDNESDAY':2,'THURSDAY':3,'FRIDAY':4}\n",
    "GROUP_SIZE = 5\n",
    "TEMPERATURE = 100"
   ]
  },
  {
   "cell_type": "markdown",
   "metadata": {},
   "source": [
    "### Data"
   ]
  },
  {
   "cell_type": "code",
   "execution_count": 36,
   "metadata": {},
   "outputs": [],
   "source": [
    "preferences = {'Maria':{'MONDAY','TUESDAY'},'Boris':{'WEDNESDAY'},\n",
    "              'Jeremy':{'TUESDAY'},'Farah':{'WEDNESDAY','THURSDAY'},\n",
    "              'Gabriel':{'WEDNESDAY','TUESDAY'},'Alexia':{'THURSDAY'},\n",
    "              'Ines':{'THURSDAY','TUESDAY'},'Shayan':{'WEDNESDAY','FRIDAY'},\n",
    "              'Noah':{'MONDAY','TUESDAY','FRIDAY'},'Mariella':{'WEDNESDAY','MONDAY'},\n",
    "              'Antoine':{'MONDAY','WEDNESDAY'},'Etienne':{'WEDNESDAY'},\n",
    "              'Valentine':{'THURSDAY','TUESDAY'},'Bastien':{'WEDNESDAY','MONDAY','THURSDAY','FRIDAY'},\n",
    "              'Benoit':{'MONDAY','TUESDAY'},'Billibob':{'MONDAY'},\n",
    "              'Juliette':{'MONDAY','FRIDAY'},'Flavia':{'WEDNESDAY','MONDAY'},\n",
    "              'Amelie':{'TUESDAY','FRIDAY','WEDNESDAY'},'Gaetan':{'WEDNESDAY','MONDAY','TUESDAY'},}"
   ]
  },
  {
   "cell_type": "code",
   "execution_count": 37,
   "metadata": {},
   "outputs": [],
   "source": [
    "prior = {'Juliette':{'Benoit','Antoine'},'Benoit':{'Juliette','Antoine'},\n",
    "         'Antoine':{'Benoit','Juliette'}}"
   ]
  },
  {
   "cell_type": "markdown",
   "metadata": {},
   "source": [
    "Data Format:\n",
    "- adjacency matrix NxM. \n",
    "- N is the number of people\n",
    "- M is the number of slots (#days*group_size) (ordered)"
   ]
  },
  {
   "cell_type": "code",
   "execution_count": 38,
   "metadata": {},
   "outputs": [],
   "source": [
    "people_mapping = dict(zip(preferences.keys(), range(len(preferences))))\n",
    "day_mapping = [d+f'_{i+1}' for d in DAYS.keys() for i in range(GROUP_SIZE)]\n",
    "day_mapping = dict(zip(day_mapping,range(len(day_mapping))))\n",
    "adjacency_matrix = np.zeros((len(people_mapping),len(day_mapping)),dtype=np.float32)"
   ]
  },
  {
   "cell_type": "markdown",
   "metadata": {},
   "source": [
    "### Code"
   ]
  },
  {
   "cell_type": "markdown",
   "metadata": {},
   "source": [
    "#### Create weighted edges"
   ]
  },
  {
   "cell_type": "code",
   "execution_count": 39,
   "metadata": {},
   "outputs": [],
   "source": [
    "weights = dict()\n",
    "for name, days in preferences.items():\n",
    "    for d in days:\n",
    "        for i in range(GROUP_SIZE):\n",
    "            weights[(name,d+f'_{i+1}')] = 1/len(days)"
   ]
  },
  {
   "cell_type": "code",
   "execution_count": 40,
   "metadata": {},
   "outputs": [],
   "source": [
    "for name, friends in prior.items():\n",
    "    overlap_days = set().union(preferences[name])\n",
    "    for f in friends:\n",
    "        overlap_days = overlap_days.intersection(preferences[f])\n",
    "    if len(overlap_days) == 0:\n",
    "        raise Exception(f'Impossible to match friends preferences for {name} as no overlapping days.')\n",
    "    for d in list(overlap_days):\n",
    "        for i in range(GROUP_SIZE):\n",
    "            weights[(name,d+f'_{i+1}')] = weights[(name,d+f'_{i+1}')] + TEMPERATURE/len(overlap_days)"
   ]
  },
  {
   "cell_type": "markdown",
   "metadata": {},
   "source": [
    "#### Convert to pandas DataFrame"
   ]
  },
  {
   "cell_type": "code",
   "execution_count": 41,
   "metadata": {},
   "outputs": [],
   "source": [
    "weighted_preferences = [[*a,b] for a,b in weights.items()]"
   ]
  },
  {
   "cell_type": "code",
   "execution_count": 42,
   "metadata": {},
   "outputs": [
    {
     "data": {
      "text/html": [
       "<div>\n",
       "<style scoped>\n",
       "    .dataframe tbody tr th:only-of-type {\n",
       "        vertical-align: middle;\n",
       "    }\n",
       "\n",
       "    .dataframe tbody tr th {\n",
       "        vertical-align: top;\n",
       "    }\n",
       "\n",
       "    .dataframe thead th {\n",
       "        text-align: right;\n",
       "    }\n",
       "</style>\n",
       "<table border=\"1\" class=\"dataframe\">\n",
       "  <thead>\n",
       "    <tr style=\"text-align: right;\">\n",
       "      <th></th>\n",
       "      <th>name</th>\n",
       "      <th>day</th>\n",
       "      <th>weight</th>\n",
       "    </tr>\n",
       "  </thead>\n",
       "  <tbody>\n",
       "    <tr>\n",
       "      <th>0</th>\n",
       "      <td>Maria</td>\n",
       "      <td>MONDAY_1</td>\n",
       "      <td>0.5</td>\n",
       "    </tr>\n",
       "    <tr>\n",
       "      <th>1</th>\n",
       "      <td>Maria</td>\n",
       "      <td>MONDAY_2</td>\n",
       "      <td>0.5</td>\n",
       "    </tr>\n",
       "    <tr>\n",
       "      <th>2</th>\n",
       "      <td>Maria</td>\n",
       "      <td>MONDAY_3</td>\n",
       "      <td>0.5</td>\n",
       "    </tr>\n",
       "    <tr>\n",
       "      <th>3</th>\n",
       "      <td>Maria</td>\n",
       "      <td>MONDAY_4</td>\n",
       "      <td>0.5</td>\n",
       "    </tr>\n",
       "    <tr>\n",
       "      <th>4</th>\n",
       "      <td>Maria</td>\n",
       "      <td>MONDAY_5</td>\n",
       "      <td>0.5</td>\n",
       "    </tr>\n",
       "  </tbody>\n",
       "</table>\n",
       "</div>"
      ],
      "text/plain": [
       "    name       day  weight\n",
       "0  Maria  MONDAY_1     0.5\n",
       "1  Maria  MONDAY_2     0.5\n",
       "2  Maria  MONDAY_3     0.5\n",
       "3  Maria  MONDAY_4     0.5\n",
       "4  Maria  MONDAY_5     0.5"
      ]
     },
     "execution_count": 42,
     "metadata": {},
     "output_type": "execute_result"
    }
   ],
   "source": [
    "weighted_preferences_df = pd.DataFrame(weighted_preferences,columns=['name','day','weight'])\n",
    "weighted_preferences_df.head()"
   ]
  },
  {
   "cell_type": "markdown",
   "metadata": {},
   "source": [
    "#### Populate adjacency matrix"
   ]
  },
  {
   "cell_type": "code",
   "execution_count": 43,
   "metadata": {},
   "outputs": [],
   "source": [
    "adjacency_matrix[weighted_preferences_df['name'].apply(lambda p: people_mapping[p]).to_list(),\n",
    "                 weighted_preferences_df['day'].apply(lambda p: day_mapping[p]).to_list(\n",
    "                 )] = weighted_preferences_df['weight'].to_list()"
   ]
  },
  {
   "cell_type": "code",
   "execution_count": 45,
   "metadata": {},
   "outputs": [],
   "source": [
    "adjacency_matrix = csr_matrix(adjacency_matrix)"
   ]
  },
  {
   "cell_type": "code",
   "execution_count": 47,
   "metadata": {},
   "outputs": [
    {
     "name": "stdout",
     "output_type": "stream",
     "text": [
      "[ 0 10  5 11  6 15  7 22  1  2  3 13  8 16  9  4 20 14 21 12]\n"
     ]
    }
   ],
   "source": [
    "print(maximum_bipartite_matching(adjacency_matrix, perm_type='column'))"
   ]
  },
  {
   "cell_type": "code",
   "execution_count": 23,
   "metadata": {},
   "outputs": [
    {
     "name": "stdout",
     "output_type": "stream",
     "text": [
      "[ 0  8  9 10 15  2  4  6 12 14  1  3 19 11 17  5 13 -1 -1 -1 16 18  7 -1\n",
      " -1]\n"
     ]
    }
   ],
   "source": [
    "print(maximum_bipartite_matching(adjacency_matrix, perm_type='row'))"
   ]
  },
  {
   "cell_type": "markdown",
   "metadata": {},
   "source": [
    "#### Create Graph and Matching"
   ]
  },
  {
   "cell_type": "code",
   "execution_count": 133,
   "metadata": {},
   "outputs": [],
   "source": [
    "G = nx.from_pandas_edgelist(available_slots_df,source='name',target='day',\n",
    "                            edge_attr='weight',create_using=nx.MultiGraph)\n",
    "matching = nx.max_weight_matching(G,maxcardinality=True)"
   ]
  },
  {
   "cell_type": "markdown",
   "metadata": {},
   "source": [
    "#### Format Matching"
   ]
  },
  {
   "cell_type": "code",
   "execution_count": 134,
   "metadata": {},
   "outputs": [],
   "source": [
    "final_matching = dict()\n",
    "for a,b in list(matching):\n",
    "    if '_' in a:\n",
    "        day, name = a.split('_')[0], b\n",
    "    else:\n",
    "        day, name = b.split('_')[0], a\n",
    "    if day not in final_matching:\n",
    "        final_matching[day] = []\n",
    "    final_matching[day].append(name)\n",
    "for day in final_matching.keys():\n",
    "    final_matching[day] = sorted(final_matching[day])\n",
    "    people = final_matching[day]\n",
    "    if len(people) < GROUP_SIZE:\n",
    "        people.extend(['']*(GROUP_SIZE-len(people)))"
   ]
  },
  {
   "cell_type": "code",
   "execution_count": 135,
   "metadata": {},
   "outputs": [],
   "source": [
    "final_matching_df = pd.DataFrame(final_matching).T\n",
    "final_matching_df = final_matching_df.sort_index(key=lambda idx: [DAYS[i] for i in idx])"
   ]
  },
  {
   "cell_type": "markdown",
   "metadata": {},
   "source": [
    "### Results"
   ]
  },
  {
   "cell_type": "code",
   "execution_count": 136,
   "metadata": {},
   "outputs": [
    {
     "data": {
      "text/html": [
       "<div>\n",
       "<style scoped>\n",
       "    .dataframe tbody tr th:only-of-type {\n",
       "        vertical-align: middle;\n",
       "    }\n",
       "\n",
       "    .dataframe tbody tr th {\n",
       "        vertical-align: top;\n",
       "    }\n",
       "\n",
       "    .dataframe thead th {\n",
       "        text-align: right;\n",
       "    }\n",
       "</style>\n",
       "<table border=\"1\" class=\"dataframe\">\n",
       "  <thead>\n",
       "    <tr style=\"text-align: right;\">\n",
       "      <th></th>\n",
       "      <th>0</th>\n",
       "      <th>1</th>\n",
       "      <th>2</th>\n",
       "      <th>3</th>\n",
       "      <th>4</th>\n",
       "    </tr>\n",
       "  </thead>\n",
       "  <tbody>\n",
       "    <tr>\n",
       "      <th>MONDAY</th>\n",
       "      <td>Billibob</td>\n",
       "      <td>Flavia</td>\n",
       "      <td>Mariella</td>\n",
       "      <td></td>\n",
       "      <td></td>\n",
       "    </tr>\n",
       "    <tr>\n",
       "      <th>TUESDAY</th>\n",
       "      <td>Benoit</td>\n",
       "      <td>Jeremy</td>\n",
       "      <td>Maria</td>\n",
       "      <td></td>\n",
       "      <td></td>\n",
       "    </tr>\n",
       "    <tr>\n",
       "      <th>WEDNESDAY</th>\n",
       "      <td>Antoine</td>\n",
       "      <td>Boris</td>\n",
       "      <td>Etienne</td>\n",
       "      <td>Gabriel</td>\n",
       "      <td>Gaetan</td>\n",
       "    </tr>\n",
       "    <tr>\n",
       "      <th>THURSDAY</th>\n",
       "      <td>Alexia</td>\n",
       "      <td>Farah</td>\n",
       "      <td>Ines</td>\n",
       "      <td>Valentine</td>\n",
       "      <td></td>\n",
       "    </tr>\n",
       "    <tr>\n",
       "      <th>FRIDAY</th>\n",
       "      <td>Amelie</td>\n",
       "      <td>Bastien</td>\n",
       "      <td>Juliette</td>\n",
       "      <td>Noah</td>\n",
       "      <td>Shayan</td>\n",
       "    </tr>\n",
       "  </tbody>\n",
       "</table>\n",
       "</div>"
      ],
      "text/plain": [
       "                  0        1         2          3       4\n",
       "MONDAY     Billibob   Flavia  Mariella                   \n",
       "TUESDAY      Benoit   Jeremy     Maria                   \n",
       "WEDNESDAY   Antoine    Boris   Etienne    Gabriel  Gaetan\n",
       "THURSDAY     Alexia    Farah      Ines  Valentine        \n",
       "FRIDAY       Amelie  Bastien  Juliette       Noah  Shayan"
      ]
     },
     "execution_count": 136,
     "metadata": {},
     "output_type": "execute_result"
    }
   ],
   "source": [
    "final_matching_df"
   ]
  },
  {
   "cell_type": "markdown",
   "metadata": {},
   "source": [
    "---"
   ]
  },
  {
   "cell_type": "code",
   "execution_count": 117,
   "metadata": {},
   "outputs": [],
   "source": [
    "available_slots = []\n",
    "for name, days in preferences.items():\n",
    "    for i in range(GROUP_SIZE):\n",
    "        available_slots.extend(zip([name]*len(days),\n",
    "                                   [d+f'_{i+1}' for d in list(days)],\n",
    "                                    [1/len(days)]*len(days)))\n",
    "for name, friends in prior.items():\n",
    "    overlap_days = set().union(preferences[name])\n",
    "    for f in friends:\n",
    "        overlap_days = overlap_days.intersection(preferences[f])\n",
    "    if len(overlap_days) == 0:\n",
    "        raise Exception(f'Impossible to match friends preferences for {name} as no overlapping days.')\n",
    "    for d in list(overlap_days):\n",
    "        for i in range(GROUP_SIZE):\n",
    "            available_slots.extend(zip([name]*len(overlap_days),\n",
    "                                       [d+f'_{i+1}' for d in list(overlap_days)],\n",
    "                                        [TEMPERATURE/len(overlap_days)]*len(overlap_days)))"
   ]
  }
 ],
 "metadata": {
  "kernelspec": {
   "display_name": "Python 3",
   "language": "python",
   "name": "python3"
  },
  "language_info": {
   "codemirror_mode": {
    "name": "ipython",
    "version": 3
   },
   "file_extension": ".py",
   "mimetype": "text/x-python",
   "name": "python",
   "nbconvert_exporter": "python",
   "pygments_lexer": "ipython3",
   "version": "3.8.5"
  }
 },
 "nbformat": 4,
 "nbformat_minor": 4
}

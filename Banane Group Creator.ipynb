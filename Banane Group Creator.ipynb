{
 "cells": [
  {
   "cell_type": "markdown",
   "metadata": {},
   "source": [
    "# Banane Group Creator "
   ]
  },
  {
   "cell_type": "markdown",
   "metadata": {},
   "source": [
    "### Packages"
   ]
  },
  {
   "cell_type": "code",
   "execution_count": 1,
   "metadata": {},
   "outputs": [],
   "source": [
    "import json\n",
    "import numpy as np\n",
    "import pandas as pd\n",
    "import seaborn as sns\n",
    "import networkx as nx\n",
    "from networkx.algorithms.bipartite import minimum_weight_full_matching\n",
    "from scipy.sparse import csr_matrix\n",
    "from scipy.sparse.csgraph import maximum_bipartite_matching"
   ]
  },
  {
   "cell_type": "markdown",
   "metadata": {},
   "source": [
    "### Constants"
   ]
  },
  {
   "cell_type": "code",
   "execution_count": 101,
   "metadata": {},
   "outputs": [],
   "source": [
    "DAYS = {'MONDAY':0,'TUESDAY':1,'WEDNESDAY':2,'THURSDAY':3,'FRIDAY':4}\n",
    "NAME_FIELD = 'Prenom-Nom'\n",
    "GROUP_MEMBER_FIELD = 'Membre_1'\n",
    "EXEMPLE_NAME = 'Jean-Mich'\n",
    "VALID_TOKEN = 'oui'\n",
    "GROUP_SIZE = 5\n",
    "TEMPERATURE = 1"
   ]
  },
  {
   "cell_type": "markdown",
   "metadata": {},
   "source": [
    "### Data"
   ]
  },
  {
   "cell_type": "code",
   "execution_count": 66,
   "metadata": {},
   "outputs": [],
   "source": [
    "preferences = {'Maria':{'MONDAY','TUESDAY'},'Boris':{'WEDNESDAY'},\n",
    "              'Jeremy':{'TUESDAY'},'Farah':{'WEDNESDAY','THURSDAY'},\n",
    "              'Gabriel':{'WEDNESDAY','TUESDAY'},'Alexia':{'THURSDAY'},\n",
    "              'Ines':{'THURSDAY','TUESDAY'},'Shayan':{'WEDNESDAY','FRIDAY'},\n",
    "              'Noah':{'MONDAY','TUESDAY','FRIDAY'},'Mariella':{'WEDNESDAY','MONDAY'},\n",
    "              'Antoine':{'MONDAY','WEDNESDAY'},'Etienne':{'WEDNESDAY'},\n",
    "              'Valentine':{'THURSDAY','TUESDAY'},'Bastien':{'WEDNESDAY','MONDAY','THURSDAY','FRIDAY'},\n",
    "              'Benoit':{'MONDAY','TUESDAY'},'Billibob':{'MONDAY'},\n",
    "              'Juliette':{'MONDAY','FRIDAY'},'Flavia':{'WEDNESDAY','MONDAY'},\n",
    "              'Amelie':{'TUESDAY','FRIDAY','WEDNESDAY'},'Gaetan':{'WEDNESDAY','MONDAY','TUESDAY'},}"
   ]
  },
  {
   "cell_type": "code",
   "execution_count": 77,
   "metadata": {},
   "outputs": [],
   "source": [
    "prior_groups = [{'Juliette','Benoit','Antoine'},]"
   ]
  },
  {
   "cell_type": "markdown",
   "metadata": {},
   "source": [
    "### Helpers"
   ]
  },
  {
   "cell_type": "code",
   "execution_count": 162,
   "metadata": {},
   "outputs": [],
   "source": [
    "def parse_preference_file(input_path:str) -> dict:\n",
    "    \"\"\"\n",
    "    Convert preferences from csv format to dictionnary.\n",
    "    \n",
    "    :param input_path: Path to the preferences in csv format.\n",
    "    \n",
    "    :return: Dictionnary with names as keys and days as values.\n",
    "    \n",
    "    \"\"\"\n",
    "    pref_df = pd.read_csv(input_path)\n",
    "    preferences = dict()\n",
    "    for _, row_data in pref_df.iterrows():\n",
    "        if row_data[NAME_FIELD] != EXEMPLE_NAME:\n",
    "            pref_days = [d for d in DAYS.keys() if row_data[d] == VALID_TOKEN]\n",
    "            preferences[row_data[NAME_FIELD]] = set(pref_days)\n",
    "    return preferences\n",
    "\n",
    "def parse_group_file(input_path:str) -> list:\n",
    "    \"\"\"\n",
    "    Convert group choices from csv format to list of sets.\n",
    "    \n",
    "    :param input_path: Path to the preferences in csv format.\n",
    "    \n",
    "    :return: List of groups represented as sets.\n",
    "    \n",
    "    \"\"\"\n",
    "    group_df = pd.read_csv(input_path)\n",
    "    prior_groups = []\n",
    "    for _, row_data in group_df.iterrows():\n",
    "        if row_data[GROUP_MEMBER_FIELD] != EXEMPLE_NAME:\n",
    "            prior_groups.extend(set(row_data.tolist()))\n",
    "\n",
    "def create_tokens(preferences:dict, prior_groups:list)-> dict:\n",
    "    \"\"\"\n",
    "    Create people token to merge people from groups.\n",
    "    \n",
    "    Tokens are used to facilitate matching. If you are not\n",
    "    coming from a prior group then your token is your name.\n",
    "    In the other case, we create $N$ similar tokens that \n",
    "    mimic the group members, where $N$ is the number of \n",
    "    people in the prior group.\n",
    "    \n",
    "    :param preferences: Dictionnary with people as keys and days as values.\n",
    "    :param prior_groups: List of groups (represented by a set).\n",
    "    \n",
    "    :return: Dictionnary in same format as preferences but for tokens.\n",
    "    \n",
    "    \"\"\"\n",
    "    # Init token preferences\n",
    "    token_preferences = dict()\n",
    "    # Create group token and preferences\n",
    "    members_of_prior_groups = []\n",
    "    for g in prior_groups:\n",
    "        if len(g) < 1:\n",
    "            raise ValueError('Empty group provided in the prior data.')\n",
    "        group = list(g)\n",
    "        overlap_days = set().union(preferences[group[0]])\n",
    "        for name in group:\n",
    "            overlap_days = overlap_days.intersection(preferences[name])\n",
    "        if len(overlap_days) == 0:\n",
    "            raise Exception(f'Impossible to match friends preferences for group {g} [no overlapping days].')\n",
    "        members_of_prior_groups.extend(group)\n",
    "        group_token = '/'.join(group)\n",
    "        for i in range(len(group)):\n",
    "            token_preferences[group_token+f'/{i}'] = overlap_days\n",
    "    members_of_prior_groups = set(members_of_prior_groups)\n",
    "    # Create other people token\n",
    "    for name, pref in preferences.items():\n",
    "        if name not in members_of_prior_groups:\n",
    "            token_preferences[name] = pref\n",
    "    return token_preferences\n",
    "\n",
    "def create_mappings(token_preferences:dict)->tuple:\n",
    "    \"\"\"\n",
    "    Create people and day mappings.\n",
    "    \n",
    "    :param token_preferences: Dictionnary with token as keys and days as values.\n",
    "    \n",
    "    :return: Mappings and reversed mappings for token-id and day-id.\n",
    "    \n",
    "    \"\"\"\n",
    "    # Standard Mappings\n",
    "    token_mapping = dict(zip(token_preferences.keys(), range(len(token_preferences))))\n",
    "    day_mapping = [d+f'_{i+1}' for d in DAYS.keys() for i in range(GROUP_SIZE)]\n",
    "    day_mapping = dict(zip(day_mapping,range(len(day_mapping))))\n",
    "    # Reversed Mappings\n",
    "    reversed_token_mapping = dict(zip(token_mapping.values(),token_mapping.keys()))\n",
    "    reversed_day_mapping = dict(zip(day_mapping.values(),day_mapping.keys()))\n",
    "    return token_mapping, reversed_token_mapping, day_mapping, reversed_day_mapping\n",
    "\n",
    "def create_token_edges(token_preferences:dict)-> dict:\n",
    "    \"\"\"\n",
    "    Create weighted edges between tokens and day's slots.\n",
    "    \n",
    "    :param token_preferences: Dictionnary with token as keys and days as values.\n",
    "    \n",
    "    :return: Dictionnary with (token,day) pairs as keys and weights as values.\n",
    "    \n",
    "    \"\"\"\n",
    "    weights = dict()\n",
    "    for token, days in token_preferences.items():\n",
    "        for d in days:\n",
    "            for i in range(GROUP_SIZE):\n",
    "                weights[(token,d+f'_{i+1}')] = 1/len(days) + (len(token.split('_'))-1)*TEMPERATURE\n",
    "    return weights\n",
    "\n",
    "def create_graph_and_adj_matrix(weights:dict, token_mapping:dict,\n",
    "                                day_mapping:dict)->tuple:\n",
    "    \"\"\"\n",
    "    Create the networkx graph and adjacency matrix from the given edge weights.\n",
    "    \n",
    "    :param weights: Dictionnary with (token,day) pairs as keys and weights as values.\n",
    "    :param token_mapping: Dictionnary with tokens as keys and ids as values.\n",
    "    :param day_mapping: Dictionnary with days as keys and ids as values.\n",
    "    \n",
    "    :return: Tuple in form (Networkx Graph, adjacency matrix)\n",
    "    \n",
    "    \"\"\"\n",
    "    # Convert to pandas DataFrame\n",
    "    weighted_preferences = [[*a,b] for a,b in weights.items()]\n",
    "    weighted_preferences_df = pd.DataFrame(weighted_preferences,columns=['name','day','weight'])\n",
    "    # Populate Adjacency Matrix\n",
    "    adjacency_matrix = np.zeros((len(token_mapping),len(day_mapping)),dtype=np.float32)\n",
    "    adjacency_matrix[weighted_preferences_df['name'].apply(lambda p: token_mapping[p]).to_list(),\n",
    "                 weighted_preferences_df['day'].apply(lambda p: day_mapping[p]).to_list(\n",
    "                 )] = weighted_preferences_df['weight'].to_list()\n",
    "    # Convert to sparse format\n",
    "    adjacency_matrix = csr_matrix(adjacency_matrix)\n",
    "    # Create Graph\n",
    "    G = nx.from_pandas_edgelist(weighted_preferences_df,source='name',target='day',\n",
    "                            edge_attr='weight',create_using=nx.MultiGraph)\n",
    "    return G, adjacency_matrix\n",
    "\n",
    "def format_matching(matching:list)->pd.DataFrame:\n",
    "    \"\"\"\n",
    "    Format the matching in (day, name) tuples and store in pandas DataFrame.\n",
    "    \n",
    "    :param matching: List of (token,day) pairs resulting from matching.\n",
    "    \n",
    "    :return: Pandas DataFrame with the matching data. \n",
    "    \n",
    "    \"\"\"\n",
    "    final_matching = dict()\n",
    "    # Format Matching\n",
    "    for a,b in matching:\n",
    "        # Format Day\n",
    "        if '_' in a:\n",
    "            day, token_name = a.split('_')[0], b\n",
    "        else:\n",
    "            day, token_name = b.split('_')[0], a\n",
    "        # Format token name\n",
    "        if '/' in token_name:\n",
    "            name = token_name.split('/')[int(token_name.split('/')[-1])]\n",
    "        else:\n",
    "            name = token_name\n",
    "        # Add entry\n",
    "        if day not in final_matching:\n",
    "            final_matching[day] = []\n",
    "        final_matching[day].append(name)\n",
    "    # Sort and fill up entries to have consistent size in DataFrame\n",
    "    for day in final_matching.keys():\n",
    "        final_matching[day] = sorted(final_matching[day])\n",
    "        people = final_matching[day]\n",
    "        if len(people) < GROUP_SIZE:\n",
    "            people.extend(['']*(GROUP_SIZE-len(people)))\n",
    "    # Convert to pandas DataFrame\n",
    "    final_matching_df = pd.DataFrame(final_matching).T\n",
    "    final_matching_df = final_matching_df.sort_index(key=lambda idx: [DAYS[i] for i in idx])\n",
    "    return final_matching_df\n",
    "\n",
    "def pipeline(preferences:dict,prior_groups:list,matching_type='max_weight')-> pd.DataFrame:\n",
    "    \"\"\"\n",
    "    Pipeline for group creation.\n",
    "    \n",
    "    :param preferences: Dictionnary with people as keys and days as values.\n",
    "    :param prior_groups: List of groups (represented by a set).\n",
    "    :param matching_type: Matching algorithm, to be selected among the following list\n",
    "                          ['max_weight','bipartite','scipy']. The best and default is \n",
    "                          'max weight'.\n",
    "    \n",
    "    :return: Pandas DataFrame with the matching data. \n",
    "    \n",
    "    \"\"\"\n",
    "    token_preferences = create_tokens(preferences,prior_groups)\n",
    "    (token_mapping, reversed_token_mapping, day_mapping,\n",
    "     reversed_day_mapping) = create_mappings(token_preferences)\n",
    "    weights = create_token_edges(token_preferences)\n",
    "    G, adj = create_graph_and_adj_matrix(weights,\n",
    "                                token_mapping,day_mapping)\n",
    "    if matching_type == 'bipartite':\n",
    "        for i,j,k in list(G.edges):\n",
    "            G[i][j][k]['weight'] = -G[i][j][k]['weight']\n",
    "        matching = minimum_weight_full_matching(G,weight='weight')\n",
    "        matching = list(zip(matching.keys(),matching.values()))\n",
    "        matching = list(set([(a,b) if '_' in a else (b,a) for (a,b) in matching]))\n",
    "    elif matching_type == 'max_weight':\n",
    "        matching = list(nx.max_weight_matching(G,maxcardinality=True))\n",
    "    elif matching_type == 'scipy':\n",
    "        matching = maximum_bipartite_matching(adj, perm_type='column')\n",
    "        matching = [(reversed_token_mapping[i], reversed_day_mapping[matching[i]]) \n",
    "                    for i in range(len(matching))]\n",
    "    else:\n",
    "        raise ValueError(f'Matching algorithm {matching_type} not implemented')\n",
    "    return format_matching(matching)"
   ]
  },
  {
   "cell_type": "markdown",
   "metadata": {},
   "source": [
    "### Results"
   ]
  },
  {
   "cell_type": "code",
   "execution_count": 163,
   "metadata": {},
   "outputs": [
    {
     "data": {
      "text/html": [
       "<div>\n",
       "<style scoped>\n",
       "    .dataframe tbody tr th:only-of-type {\n",
       "        vertical-align: middle;\n",
       "    }\n",
       "\n",
       "    .dataframe tbody tr th {\n",
       "        vertical-align: top;\n",
       "    }\n",
       "\n",
       "    .dataframe thead th {\n",
       "        text-align: right;\n",
       "    }\n",
       "</style>\n",
       "<table border=\"1\" class=\"dataframe\">\n",
       "  <thead>\n",
       "    <tr style=\"text-align: right;\">\n",
       "      <th></th>\n",
       "      <th>0</th>\n",
       "      <th>1</th>\n",
       "      <th>2</th>\n",
       "      <th>3</th>\n",
       "      <th>4</th>\n",
       "    </tr>\n",
       "  </thead>\n",
       "  <tbody>\n",
       "    <tr>\n",
       "      <th>MONDAY</th>\n",
       "      <td>Antoine</td>\n",
       "      <td>Benoit</td>\n",
       "      <td>Billibob</td>\n",
       "      <td>Juliette</td>\n",
       "      <td></td>\n",
       "    </tr>\n",
       "    <tr>\n",
       "      <th>TUESDAY</th>\n",
       "      <td>Gabriel</td>\n",
       "      <td>Gaetan</td>\n",
       "      <td>Jeremy</td>\n",
       "      <td>Maria</td>\n",
       "      <td></td>\n",
       "    </tr>\n",
       "    <tr>\n",
       "      <th>WEDNESDAY</th>\n",
       "      <td>Boris</td>\n",
       "      <td>Etienne</td>\n",
       "      <td>Flavia</td>\n",
       "      <td>Mariella</td>\n",
       "      <td></td>\n",
       "    </tr>\n",
       "    <tr>\n",
       "      <th>THURSDAY</th>\n",
       "      <td>Alexia</td>\n",
       "      <td>Farah</td>\n",
       "      <td>Ines</td>\n",
       "      <td>Valentine</td>\n",
       "      <td></td>\n",
       "    </tr>\n",
       "    <tr>\n",
       "      <th>FRIDAY</th>\n",
       "      <td>Amelie</td>\n",
       "      <td>Bastien</td>\n",
       "      <td>Noah</td>\n",
       "      <td>Shayan</td>\n",
       "      <td></td>\n",
       "    </tr>\n",
       "  </tbody>\n",
       "</table>\n",
       "</div>"
      ],
      "text/plain": [
       "                 0        1         2          3 4\n",
       "MONDAY     Antoine   Benoit  Billibob   Juliette  \n",
       "TUESDAY    Gabriel   Gaetan    Jeremy      Maria  \n",
       "WEDNESDAY    Boris  Etienne    Flavia   Mariella  \n",
       "THURSDAY    Alexia    Farah      Ines  Valentine  \n",
       "FRIDAY      Amelie  Bastien      Noah     Shayan  "
      ]
     },
     "execution_count": 163,
     "metadata": {},
     "output_type": "execute_result"
    }
   ],
   "source": [
    "pipeline(preferences,prior_groups,matching_type='max_weight')"
   ]
  },
  {
   "cell_type": "code",
   "execution_count": 164,
   "metadata": {
    "scrolled": true
   },
   "outputs": [
    {
     "data": {
      "text/html": [
       "<div>\n",
       "<style scoped>\n",
       "    .dataframe tbody tr th:only-of-type {\n",
       "        vertical-align: middle;\n",
       "    }\n",
       "\n",
       "    .dataframe tbody tr th {\n",
       "        vertical-align: top;\n",
       "    }\n",
       "\n",
       "    .dataframe thead th {\n",
       "        text-align: right;\n",
       "    }\n",
       "</style>\n",
       "<table border=\"1\" class=\"dataframe\">\n",
       "  <thead>\n",
       "    <tr style=\"text-align: right;\">\n",
       "      <th></th>\n",
       "      <th>0</th>\n",
       "      <th>1</th>\n",
       "      <th>2</th>\n",
       "      <th>3</th>\n",
       "      <th>4</th>\n",
       "    </tr>\n",
       "  </thead>\n",
       "  <tbody>\n",
       "    <tr>\n",
       "      <th>MONDAY</th>\n",
       "      <td>Antoine</td>\n",
       "      <td>Bastien</td>\n",
       "      <td>Benoit</td>\n",
       "      <td>Billibob</td>\n",
       "      <td>Juliette</td>\n",
       "    </tr>\n",
       "    <tr>\n",
       "      <th>TUESDAY</th>\n",
       "      <td>Gabriel</td>\n",
       "      <td>Gaetan</td>\n",
       "      <td>Jeremy</td>\n",
       "      <td>Maria</td>\n",
       "      <td>Noah</td>\n",
       "    </tr>\n",
       "    <tr>\n",
       "      <th>WEDNESDAY</th>\n",
       "      <td>Boris</td>\n",
       "      <td>Etienne</td>\n",
       "      <td>Flavia</td>\n",
       "      <td>Mariella</td>\n",
       "      <td></td>\n",
       "    </tr>\n",
       "    <tr>\n",
       "      <th>THURSDAY</th>\n",
       "      <td>Alexia</td>\n",
       "      <td>Farah</td>\n",
       "      <td>Ines</td>\n",
       "      <td>Valentine</td>\n",
       "      <td></td>\n",
       "    </tr>\n",
       "    <tr>\n",
       "      <th>FRIDAY</th>\n",
       "      <td>Amelie</td>\n",
       "      <td>Shayan</td>\n",
       "      <td></td>\n",
       "      <td></td>\n",
       "      <td></td>\n",
       "    </tr>\n",
       "  </tbody>\n",
       "</table>\n",
       "</div>"
      ],
      "text/plain": [
       "                 0        1       2          3         4\n",
       "MONDAY     Antoine  Bastien  Benoit   Billibob  Juliette\n",
       "TUESDAY    Gabriel   Gaetan  Jeremy      Maria      Noah\n",
       "WEDNESDAY    Boris  Etienne  Flavia   Mariella          \n",
       "THURSDAY    Alexia    Farah    Ines  Valentine          \n",
       "FRIDAY      Amelie   Shayan                             "
      ]
     },
     "execution_count": 164,
     "metadata": {},
     "output_type": "execute_result"
    }
   ],
   "source": [
    "pipeline(preferences,prior_groups,matching_type='bipartite')"
   ]
  },
  {
   "cell_type": "code",
   "execution_count": 165,
   "metadata": {},
   "outputs": [
    {
     "data": {
      "text/html": [
       "<div>\n",
       "<style scoped>\n",
       "    .dataframe tbody tr th:only-of-type {\n",
       "        vertical-align: middle;\n",
       "    }\n",
       "\n",
       "    .dataframe tbody tr th {\n",
       "        vertical-align: top;\n",
       "    }\n",
       "\n",
       "    .dataframe thead th {\n",
       "        text-align: right;\n",
       "    }\n",
       "</style>\n",
       "<table border=\"1\" class=\"dataframe\">\n",
       "  <thead>\n",
       "    <tr style=\"text-align: right;\">\n",
       "      <th></th>\n",
       "      <th>0</th>\n",
       "      <th>1</th>\n",
       "      <th>2</th>\n",
       "      <th>3</th>\n",
       "      <th>4</th>\n",
       "    </tr>\n",
       "  </thead>\n",
       "  <tbody>\n",
       "    <tr>\n",
       "      <th>MONDAY</th>\n",
       "      <td>Antoine</td>\n",
       "      <td>Benoit</td>\n",
       "      <td>Billibob</td>\n",
       "      <td>Juliette</td>\n",
       "      <td>Maria</td>\n",
       "    </tr>\n",
       "    <tr>\n",
       "      <th>TUESDAY</th>\n",
       "      <td>Amelie</td>\n",
       "      <td>Gabriel</td>\n",
       "      <td>Ines</td>\n",
       "      <td>Jeremy</td>\n",
       "      <td>Valentine</td>\n",
       "    </tr>\n",
       "    <tr>\n",
       "      <th>WEDNESDAY</th>\n",
       "      <td>Boris</td>\n",
       "      <td>Etienne</td>\n",
       "      <td>Flavia</td>\n",
       "      <td>Gaetan</td>\n",
       "      <td>Mariella</td>\n",
       "    </tr>\n",
       "    <tr>\n",
       "      <th>THURSDAY</th>\n",
       "      <td>Alexia</td>\n",
       "      <td>Bastien</td>\n",
       "      <td>Farah</td>\n",
       "      <td></td>\n",
       "      <td></td>\n",
       "    </tr>\n",
       "    <tr>\n",
       "      <th>FRIDAY</th>\n",
       "      <td>Noah</td>\n",
       "      <td>Shayan</td>\n",
       "      <td></td>\n",
       "      <td></td>\n",
       "      <td></td>\n",
       "    </tr>\n",
       "  </tbody>\n",
       "</table>\n",
       "</div>"
      ],
      "text/plain": [
       "                 0        1         2         3          4\n",
       "MONDAY     Antoine   Benoit  Billibob  Juliette      Maria\n",
       "TUESDAY     Amelie  Gabriel      Ines    Jeremy  Valentine\n",
       "WEDNESDAY    Boris  Etienne    Flavia    Gaetan   Mariella\n",
       "THURSDAY    Alexia  Bastien     Farah                     \n",
       "FRIDAY        Noah   Shayan                               "
      ]
     },
     "execution_count": 165,
     "metadata": {},
     "output_type": "execute_result"
    }
   ],
   "source": [
    "pipeline(preferences,prior_groups,matching_type='scipy')"
   ]
  },
  {
   "cell_type": "markdown",
   "metadata": {},
   "source": [
    "---"
   ]
  },
  {
   "cell_type": "markdown",
   "metadata": {},
   "source": [
    "### Archive"
   ]
  },
  {
   "cell_type": "code",
   "execution_count": 117,
   "metadata": {},
   "outputs": [],
   "source": [
    "available_slots = []\n",
    "for name, days in preferences.items():\n",
    "    for i in range(GROUP_SIZE):\n",
    "        available_slots.extend(zip([name]*len(days),\n",
    "                                   [d+f'_{i+1}' for d in list(days)],\n",
    "                                    [1/len(days)]*len(days)))\n",
    "for name, friends in prior.items():\n",
    "    overlap_days = set().union(preferences[name])\n",
    "    for f in friends:\n",
    "        overlap_days = overlap_days.intersection(preferences[f])\n",
    "    if len(overlap_days) == 0:\n",
    "        raise Exception(f'Impossible to match friends preferences for {name} as no overlapping days.')\n",
    "    for d in list(overlap_days):\n",
    "        for i in range(GROUP_SIZE):\n",
    "            available_slots.extend(zip([name]*len(overlap_days),\n",
    "                                       [d+f'_{i+1}' for d in list(overlap_days)],\n",
    "                                        [TEMPERATURE/len(overlap_days)]*len(overlap_days)))"
   ]
  },
  {
   "cell_type": "markdown",
   "metadata": {},
   "source": [
    "Data Format:\n",
    "- adjacency matrix NxM. \n",
    "- N is the number of people\n",
    "- M is the number of slots (#days*group_size) (ordered)"
   ]
  },
  {
   "cell_type": "code",
   "execution_count": 5,
   "metadata": {},
   "outputs": [],
   "source": [
    "# Standard Mappings\n",
    "people_mapping = dict(zip(preferences.keys(), range(len(preferences))))\n",
    "day_mapping = [d+f'_{i+1}' for d in DAYS.keys() for i in range(GROUP_SIZE)]\n",
    "day_mapping = dict(zip(day_mapping,range(len(day_mapping))))\n",
    "# Reversed Mappings\n",
    "reversed_people_mapping = dict(zip(people_mapping.values(),people_mapping.keys()))\n",
    "reversed_day_mapping = dict(zip(day_mapping.values(),day_mapping.keys()))\n",
    "adjacency_matrix = np.zeros((len(people_mapping),len(day_mapping)),dtype=np.float32)"
   ]
  },
  {
   "cell_type": "markdown",
   "metadata": {},
   "source": [
    "#### Create weighted edges"
   ]
  },
  {
   "cell_type": "code",
   "execution_count": 150,
   "metadata": {},
   "outputs": [],
   "source": [
    "weights = dict()\n",
    "for name, days in preferences.items():\n",
    "    for d in days:\n",
    "        for i in range(GROUP_SIZE):\n",
    "            weights[(name,d+f'_{i+1}')] = 1/len(days) "
   ]
  },
  {
   "cell_type": "code",
   "execution_count": 151,
   "metadata": {
    "collapsed": true
   },
   "outputs": [
    {
     "ename": "AttributeError",
     "evalue": "'list' object has no attribute 'items'",
     "output_type": "error",
     "traceback": [
      "\u001b[1;31m---------------------------------------------------------------------------\u001b[0m",
      "\u001b[1;31mAttributeError\u001b[0m                            Traceback (most recent call last)",
      "\u001b[1;32m<ipython-input-151-c7198d3559b7>\u001b[0m in \u001b[0;36m<module>\u001b[1;34m\u001b[0m\n\u001b[1;32m----> 1\u001b[1;33m \u001b[1;32mfor\u001b[0m \u001b[0mname\u001b[0m\u001b[1;33m,\u001b[0m \u001b[0mfriends\u001b[0m \u001b[1;32min\u001b[0m \u001b[0mprior\u001b[0m\u001b[1;33m.\u001b[0m\u001b[0mitems\u001b[0m\u001b[1;33m(\u001b[0m\u001b[1;33m)\u001b[0m\u001b[1;33m:\u001b[0m\u001b[1;33m\u001b[0m\u001b[1;33m\u001b[0m\u001b[0m\n\u001b[0m\u001b[0;32m      2\u001b[0m     \u001b[0moverlap_days\u001b[0m \u001b[1;33m=\u001b[0m \u001b[0mset\u001b[0m\u001b[1;33m(\u001b[0m\u001b[1;33m)\u001b[0m\u001b[1;33m.\u001b[0m\u001b[0munion\u001b[0m\u001b[1;33m(\u001b[0m\u001b[0mpreferences\u001b[0m\u001b[1;33m[\u001b[0m\u001b[0mname\u001b[0m\u001b[1;33m]\u001b[0m\u001b[1;33m)\u001b[0m\u001b[1;33m\u001b[0m\u001b[1;33m\u001b[0m\u001b[0m\n\u001b[0;32m      3\u001b[0m     \u001b[1;32mfor\u001b[0m \u001b[0mf\u001b[0m \u001b[1;32min\u001b[0m \u001b[0mfriends\u001b[0m\u001b[1;33m:\u001b[0m\u001b[1;33m\u001b[0m\u001b[1;33m\u001b[0m\u001b[0m\n\u001b[0;32m      4\u001b[0m         \u001b[0moverlap_days\u001b[0m \u001b[1;33m=\u001b[0m \u001b[0moverlap_days\u001b[0m\u001b[1;33m.\u001b[0m\u001b[0mintersection\u001b[0m\u001b[1;33m(\u001b[0m\u001b[0mpreferences\u001b[0m\u001b[1;33m[\u001b[0m\u001b[0mf\u001b[0m\u001b[1;33m]\u001b[0m\u001b[1;33m)\u001b[0m\u001b[1;33m\u001b[0m\u001b[1;33m\u001b[0m\u001b[0m\n\u001b[0;32m      5\u001b[0m     \u001b[1;32mif\u001b[0m \u001b[0mlen\u001b[0m\u001b[1;33m(\u001b[0m\u001b[0moverlap_days\u001b[0m\u001b[1;33m)\u001b[0m \u001b[1;33m==\u001b[0m \u001b[1;36m0\u001b[0m\u001b[1;33m:\u001b[0m\u001b[1;33m\u001b[0m\u001b[1;33m\u001b[0m\u001b[0m\n",
      "\u001b[1;31mAttributeError\u001b[0m: 'list' object has no attribute 'items'"
     ]
    }
   ],
   "source": [
    "for name, friends in prior.items():\n",
    "    overlap_days = set().union(preferences[name])\n",
    "    for f in friends:\n",
    "        overlap_days = overlap_days.intersection(preferences[f])\n",
    "    if len(overlap_days) == 0:\n",
    "        raise Exception(f'Impossible to match friends preferences for {name} as no overlapping days.')\n",
    "    for d in list(overlap_days):\n",
    "        for i in range(GROUP_SIZE):\n",
    "            weights[(name,d+f'_{i+1}')] = weights[(name,d+f'_{i+1}')] + TEMPERATURE/len(overlap_days)"
   ]
  },
  {
   "cell_type": "markdown",
   "metadata": {},
   "source": [
    "#### Convert to pandas DataFrame"
   ]
  },
  {
   "cell_type": "code",
   "execution_count": 93,
   "metadata": {},
   "outputs": [],
   "source": [
    "weighted_preferences = [[*a,b] for a,b in weights.items()]"
   ]
  },
  {
   "cell_type": "code",
   "execution_count": 94,
   "metadata": {},
   "outputs": [
    {
     "data": {
      "text/html": [
       "<div>\n",
       "<style scoped>\n",
       "    .dataframe tbody tr th:only-of-type {\n",
       "        vertical-align: middle;\n",
       "    }\n",
       "\n",
       "    .dataframe tbody tr th {\n",
       "        vertical-align: top;\n",
       "    }\n",
       "\n",
       "    .dataframe thead th {\n",
       "        text-align: right;\n",
       "    }\n",
       "</style>\n",
       "<table border=\"1\" class=\"dataframe\">\n",
       "  <thead>\n",
       "    <tr style=\"text-align: right;\">\n",
       "      <th></th>\n",
       "      <th>name</th>\n",
       "      <th>day</th>\n",
       "      <th>weight</th>\n",
       "    </tr>\n",
       "  </thead>\n",
       "  <tbody>\n",
       "    <tr>\n",
       "      <th>0</th>\n",
       "      <td>Maria</td>\n",
       "      <td>MONDAY_1</td>\n",
       "      <td>0.5</td>\n",
       "    </tr>\n",
       "    <tr>\n",
       "      <th>1</th>\n",
       "      <td>Maria</td>\n",
       "      <td>MONDAY_2</td>\n",
       "      <td>0.5</td>\n",
       "    </tr>\n",
       "    <tr>\n",
       "      <th>2</th>\n",
       "      <td>Maria</td>\n",
       "      <td>MONDAY_3</td>\n",
       "      <td>0.5</td>\n",
       "    </tr>\n",
       "    <tr>\n",
       "      <th>3</th>\n",
       "      <td>Maria</td>\n",
       "      <td>MONDAY_4</td>\n",
       "      <td>0.5</td>\n",
       "    </tr>\n",
       "    <tr>\n",
       "      <th>4</th>\n",
       "      <td>Maria</td>\n",
       "      <td>MONDAY_5</td>\n",
       "      <td>0.5</td>\n",
       "    </tr>\n",
       "  </tbody>\n",
       "</table>\n",
       "</div>"
      ],
      "text/plain": [
       "    name       day  weight\n",
       "0  Maria  MONDAY_1     0.5\n",
       "1  Maria  MONDAY_2     0.5\n",
       "2  Maria  MONDAY_3     0.5\n",
       "3  Maria  MONDAY_4     0.5\n",
       "4  Maria  MONDAY_5     0.5"
      ]
     },
     "execution_count": 94,
     "metadata": {},
     "output_type": "execute_result"
    }
   ],
   "source": [
    "weighted_preferences_df = pd.DataFrame(weighted_preferences,columns=['name','day','weight'])\n",
    "weighted_preferences_df.head()"
   ]
  },
  {
   "cell_type": "markdown",
   "metadata": {},
   "source": [
    "#### Populate adjacency matrix"
   ]
  },
  {
   "cell_type": "code",
   "execution_count": 95,
   "metadata": {},
   "outputs": [],
   "source": [
    "adjacency_matrix[weighted_preferences_df['name'].apply(lambda p: people_mapping[p]).to_list(),\n",
    "                 weighted_preferences_df['day'].apply(lambda p: day_mapping[p]).to_list(\n",
    "                 )] = weighted_preferences_df['weight'].to_list()"
   ]
  },
  {
   "cell_type": "code",
   "execution_count": 96,
   "metadata": {},
   "outputs": [],
   "source": [
    "adjacency_matrix = csr_matrix(adjacency_matrix)"
   ]
  },
  {
   "cell_type": "markdown",
   "metadata": {},
   "source": [
    "#### Scipy Matching"
   ]
  },
  {
   "cell_type": "code",
   "execution_count": 97,
   "metadata": {},
   "outputs": [],
   "source": [
    "matching = maximum_bipartite_matching(adjacency_matrix, perm_type='column')\n",
    "matching = [(reversed_people_mapping[i], reversed_day_mapping[matching[i]]) for i in range(len(matching))]"
   ]
  },
  {
   "cell_type": "code",
   "execution_count": 98,
   "metadata": {},
   "outputs": [],
   "source": [
    "matching = maximum_bipartite_matching(adjacency_matrix, perm_type='row')\n",
    "matching = [(reversed_people_mapping[matching[i]], reversed_day_mapping[i]) for i in range(len(matching))\n",
    "           if matching[i] != -1]"
   ]
  },
  {
   "cell_type": "markdown",
   "metadata": {},
   "source": [
    "#### Networkx Matching"
   ]
  },
  {
   "cell_type": "code",
   "execution_count": 99,
   "metadata": {},
   "outputs": [],
   "source": [
    "G = nx.from_pandas_edgelist(weighted_preferences_df,source='name',target='day',\n",
    "                            edge_attr='weight',create_using=nx.MultiGraph)\n",
    "matching = list(nx.max_weight_matching(G,maxcardinality=True))"
   ]
  },
  {
   "cell_type": "code",
   "execution_count": 100,
   "metadata": {},
   "outputs": [],
   "source": [
    "matching = minimum_weight_full_matching(G,weight='weight')\n",
    "matching = list(zip(matching.keys(),matching.values()))\n",
    "matching = list(set([(a,b) if '_' in a else (b,a) for (a,b) in matching]))"
   ]
  },
  {
   "cell_type": "markdown",
   "metadata": {},
   "source": [
    "#### Format Matching"
   ]
  },
  {
   "cell_type": "code",
   "execution_count": 101,
   "metadata": {},
   "outputs": [],
   "source": [
    "final_matching = dict()\n",
    "for a,b in matching:\n",
    "    if '_' in a:\n",
    "        day, name = a.split('_')[0], b\n",
    "    else:\n",
    "        day, name = b.split('_')[0], a\n",
    "    if day not in final_matching:\n",
    "        final_matching[day] = []\n",
    "    final_matching[day].append(name)\n",
    "for day in final_matching.keys():\n",
    "    final_matching[day] = sorted(final_matching[day])\n",
    "    people = final_matching[day]\n",
    "    if len(people) < GROUP_SIZE:\n",
    "        people.extend(['']*(GROUP_SIZE-len(people)))"
   ]
  },
  {
   "cell_type": "code",
   "execution_count": 102,
   "metadata": {},
   "outputs": [],
   "source": [
    "final_matching_df = pd.DataFrame(final_matching).T\n",
    "final_matching_df = final_matching_df.sort_index(key=lambda idx: [DAYS[i] for i in idx])"
   ]
  }
 ],
 "metadata": {
  "kernelspec": {
   "display_name": "Python 3",
   "language": "python",
   "name": "python3"
  },
  "language_info": {
   "codemirror_mode": {
    "name": "ipython",
    "version": 3
   },
   "file_extension": ".py",
   "mimetype": "text/x-python",
   "name": "python",
   "nbconvert_exporter": "python",
   "pygments_lexer": "ipython3",
   "version": "3.8.5"
  }
 },
 "nbformat": 4,
 "nbformat_minor": 4
}
